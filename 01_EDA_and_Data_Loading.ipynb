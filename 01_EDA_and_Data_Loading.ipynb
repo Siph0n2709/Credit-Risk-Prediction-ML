{
 "cells": [
  {
   "cell_type": "markdown",
   "id": "74dc7160",
   "metadata": {},
   "source": [
    "Credit Risk Prediction ML Project!\n",
    "Serves as a way to see whether or not a person's loan application will default based on credit. "
   ]
  }
 ],
 "metadata": {
  "language_info": {
   "name": "python"
  }
 },
 "nbformat": 4,
 "nbformat_minor": 5
}
