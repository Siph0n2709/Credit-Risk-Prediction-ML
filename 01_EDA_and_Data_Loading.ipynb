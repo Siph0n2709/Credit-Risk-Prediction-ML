{
 "cells": [
  {
   "cell_type": "markdown",
   "id": "74dc7160",
   "metadata": {},
   "source": [
    "Credit Risk Prediction ML Project!\n",
    "Serves as a way to see whether or not a person's loan application will default based on credit. "
   ]
  },
  {
   "cell_type": "code",
   "execution_count": null,
   "id": "b9b93198",
   "metadata": {},
   "outputs": [],
   "source": [
    "import pandas as pd\n",
    "import numpy as np\n",
    "import matplotlib.pyplot as plt\n",
    "import seaborn as sns\n",
    "\n"
   ]
  }
 ],
 "metadata": {
  "kernelspec": {
   "display_name": ".venv",
   "language": "python",
   "name": "python3"
  },
  "language_info": {
   "name": "python",
   "version": "3.13.3"
  }
 },
 "nbformat": 4,
 "nbformat_minor": 5
}
