{
 "cells": [
  {
   "cell_type": "markdown",
   "id": "74dc7160",
   "metadata": {},
   "source": [
    "Credit Risk Prediction ML Project!\n",
    "Serves as a way to see whether or not a person's loan application will default based on credit. "
   ]
  },
  {
   "cell_type": "code",
   "execution_count": 1,
   "id": "b9b93198",
   "metadata": {},
   "outputs": [],
   "source": [
    "import pandas as pd\n",
    "import numpy as np\n",
    "import matplotlib.pyplot as plt\n",
    "import seaborn as sns"
   ]
  },
  {
   "cell_type": "code",
   "execution_count": 3,
   "id": "6960e9d6",
   "metadata": {},
   "outputs": [
    {
     "name": "stdout",
     "output_type": "stream",
     "text": [
      "Data Loaded Successfully\n"
     ]
    }
   ],
   "source": [
    "accepted_loans = \"data/accepted_2007_to_2018q4.csv/accepted_2007_to_2018q4.csv\"\n",
    "\n",
    "try: \n",
    "    df_accepted = pd.read_csv(accepted_loans, low_memory=False) # low_memory=False to avoid dtype warning for large files\n",
    "    print(\"Data Loaded Successfully\")\n",
    "except FileNotFoundError:\n",
    "    print(f\"File {accepted_loans} not found. Please check the path and try again.\")\n",
    "except Exception as e:\n",
    "    print(f\"An error occurred while loading the data: {e}\")\n"
   ]
  },
  {
   "cell_type": "code",
   "execution_count": 4,
   "id": "874bf186",
   "metadata": {},
   "outputs": [
    {
     "name": "stdout",
     "output_type": "stream",
     "text": [
      "\n",
      "--First 5 Rows of the Data--\n",
      "         id  member_id  loan_amnt  funded_amnt  funded_amnt_inv        term  \\\n",
      "0  68407277        NaN     3600.0       3600.0           3600.0   36 months   \n",
      "1  68355089        NaN    24700.0      24700.0          24700.0   36 months   \n",
      "2  68341763        NaN    20000.0      20000.0          20000.0   60 months   \n",
      "3  66310712        NaN    35000.0      35000.0          35000.0   60 months   \n",
      "4  68476807        NaN    10400.0      10400.0          10400.0   60 months   \n",
      "\n",
      "   int_rate  installment grade sub_grade  ... hardship_payoff_balance_amount  \\\n",
      "0     13.99       123.03     C        C4  ...                            NaN   \n",
      "1     11.99       820.28     C        C1  ...                            NaN   \n",
      "2     10.78       432.66     B        B4  ...                            NaN   \n",
      "3     14.85       829.90     C        C5  ...                            NaN   \n",
      "4     22.45       289.91     F        F1  ...                            NaN   \n",
      "\n",
      "  hardship_last_payment_amount disbursement_method  debt_settlement_flag  \\\n",
      "0                          NaN                Cash                     N   \n",
      "1                          NaN                Cash                     N   \n",
      "2                          NaN                Cash                     N   \n",
      "3                          NaN                Cash                     N   \n",
      "4                          NaN                Cash                     N   \n",
      "\n",
      "  debt_settlement_flag_date settlement_status settlement_date  \\\n",
      "0                       NaN               NaN             NaN   \n",
      "1                       NaN               NaN             NaN   \n",
      "2                       NaN               NaN             NaN   \n",
      "3                       NaN               NaN             NaN   \n",
      "4                       NaN               NaN             NaN   \n",
      "\n",
      "  settlement_amount settlement_percentage settlement_term  \n",
      "0               NaN                   NaN             NaN  \n",
      "1               NaN                   NaN             NaN  \n",
      "2               NaN                   NaN             NaN  \n",
      "3               NaN                   NaN             NaN  \n",
      "4               NaN                   NaN             NaN  \n",
      "\n",
      "[5 rows x 151 columns]\n"
     ]
    }
   ],
   "source": [
    "print(\"\\n--First 5 Rows of the Data--\")\n",
    "print(df_accepted.head())"
   ]
  },
  {
   "cell_type": "code",
   "execution_count": 5,
   "id": "382e302b",
   "metadata": {},
   "outputs": [
    {
     "name": "stdout",
     "output_type": "stream",
     "text": [
      "\n",
      "DataFrame Info:\n",
      "<class 'pandas.core.frame.DataFrame'>\n",
      "RangeIndex: 2260701 entries, 0 to 2260700\n",
      "Columns: 151 entries, id to settlement_term\n",
      "dtypes: float64(113), object(38)\n",
      "memory usage: 2.5+ GB\n",
      "None\n"
     ]
    }
   ],
   "source": [
    "print(\"\\nDataFrame Info:\")\n",
    "print(df_accepted.info())"
   ]
  },
  {
   "cell_type": "code",
   "execution_count": 7,
   "id": "24657a65",
   "metadata": {},
   "outputs": [
    {
     "name": "stdout",
     "output_type": "stream",
     "text": [
      "DataFrame shape:\n",
      "Rows: 2260701 Columns: 151\n"
     ]
    }
   ],
   "source": [
    "print(\"DataFrame shape:\")\n",
    "print(\"Rows:\", df_accepted.shape[0], \"Columns:\", df_accepted.shape[1])"
   ]
  },
  {
   "cell_type": "code",
   "execution_count": 8,
   "id": "fdf3f75c",
   "metadata": {},
   "outputs": [
    {
     "name": "stdout",
     "output_type": "stream",
     "text": [
      "Descriptive statistics:\n",
      "       member_id     loan_amnt   funded_amnt  funded_amnt_inv      int_rate  \\\n",
      "count        0.0  2.260668e+06  2.260668e+06     2.260668e+06  2.260668e+06   \n",
      "mean         NaN  1.504693e+04  1.504166e+04     1.502344e+04  1.309283e+01   \n",
      "std          NaN  9.190245e+03  9.188413e+03     9.192332e+03  4.832138e+00   \n",
      "min          NaN  5.000000e+02  5.000000e+02     0.000000e+00  5.310000e+00   \n",
      "25%          NaN  8.000000e+03  8.000000e+03     8.000000e+03  9.490000e+00   \n",
      "50%          NaN  1.290000e+04  1.287500e+04     1.280000e+04  1.262000e+01   \n",
      "75%          NaN  2.000000e+04  2.000000e+04     2.000000e+04  1.599000e+01   \n",
      "max          NaN  4.000000e+04  4.000000e+04     4.000000e+04  3.099000e+01   \n",
      "\n",
      "        installment    annual_inc           dti   delinq_2yrs  fico_range_low  \\\n",
      "count  2.260668e+06  2.260664e+06  2.258957e+06  2.260639e+06    2.260668e+06   \n",
      "mean   4.458068e+02  7.799243e+04  1.882420e+01  3.068792e-01    6.985882e+02   \n",
      "std    2.671735e+02  1.126962e+05  1.418333e+01  8.672303e-01    3.301038e+01   \n",
      "min    4.930000e+00  0.000000e+00 -1.000000e+00  0.000000e+00    6.100000e+02   \n",
      "25%    2.516500e+02  4.600000e+04  1.189000e+01  0.000000e+00    6.750000e+02   \n",
      "50%    3.779900e+02  6.500000e+04  1.784000e+01  0.000000e+00    6.900000e+02   \n",
      "75%    5.933200e+02  9.300000e+04  2.449000e+01  0.000000e+00    7.150000e+02   \n",
      "max    1.719830e+03  1.100000e+08  9.990000e+02  5.800000e+01    8.450000e+02   \n",
      "\n",
      "       ...  deferral_term  hardship_amount  hardship_length  hardship_dpd  \\\n",
      "count  ...        10917.0     10917.000000          10917.0  10917.000000   \n",
      "mean   ...            3.0       155.045981              3.0     13.743886   \n",
      "std    ...            0.0       129.040594              0.0      9.671178   \n",
      "min    ...            3.0         0.640000              3.0      0.000000   \n",
      "25%    ...            3.0        59.440000              3.0      5.000000   \n",
      "50%    ...            3.0       119.140000              3.0     15.000000   \n",
      "75%    ...            3.0       213.260000              3.0     22.000000   \n",
      "max    ...            3.0       943.940000              3.0     37.000000   \n",
      "\n",
      "       orig_projected_additional_accrued_interest  \\\n",
      "count                                 8651.000000   \n",
      "mean                                   454.798089   \n",
      "std                                    375.385500   \n",
      "min                                      1.920000   \n",
      "25%                                    175.230000   \n",
      "50%                                    352.770000   \n",
      "75%                                    620.175000   \n",
      "max                                   2680.890000   \n",
      "\n",
      "       hardship_payoff_balance_amount  hardship_last_payment_amount  \\\n",
      "count                    10917.000000                  10917.000000   \n",
      "mean                     11636.883942                    193.994321   \n",
      "std                       7625.988281                    198.629496   \n",
      "min                         55.730000                      0.010000   \n",
      "25%                       5627.000000                     44.440000   \n",
      "50%                      10028.390000                    133.160000   \n",
      "75%                      16151.890000                    284.190000   \n",
      "max                      40306.410000                   1407.860000   \n",
      "\n",
      "       settlement_amount  settlement_percentage  settlement_term  \n",
      "count       34246.000000           34246.000000     34246.000000  \n",
      "mean         5010.664267              47.780365        13.191322  \n",
      "std          3693.122590               7.311822         8.159980  \n",
      "min            44.210000               0.200000         0.000000  \n",
      "25%          2208.000000              45.000000         6.000000  \n",
      "50%          4146.110000              45.000000        14.000000  \n",
      "75%          6850.172500              50.000000        18.000000  \n",
      "max         33601.000000             521.350000       181.000000  \n",
      "\n",
      "[8 rows x 113 columns]\n"
     ]
    }
   ],
   "source": [
    "print(\"Descriptive statistics:\")\n",
    "print(df_accepted.describe())"
   ]
  },
  {
   "cell_type": "code",
   "execution_count": null,
   "id": "d3f54af6",
   "metadata": {},
   "outputs": [
    {
     "name": "stdout",
     "output_type": "stream",
     "text": [
      "['id', 'member_id', 'loan_amnt', 'funded_amnt', 'funded_amnt_inv', 'term', 'int_rate', 'installment', 'grade', 'sub_grade', 'emp_title', 'emp_length', 'home_ownership', 'annual_inc', 'verification_status', 'issue_d', 'loan_status', 'pymnt_plan', 'url', 'desc', 'purpose', 'title', 'zip_code', 'addr_state', 'dti', 'delinq_2yrs', 'earliest_cr_line', 'fico_range_low', 'fico_range_high', 'inq_last_6mths', 'mths_since_last_delinq', 'mths_since_last_record', 'open_acc', 'pub_rec', 'revol_bal', 'revol_util', 'total_acc', 'initial_list_status', 'out_prncp', 'out_prncp_inv', 'total_pymnt', 'total_pymnt_inv', 'total_rec_prncp', 'total_rec_int', 'total_rec_late_fee', 'recoveries', 'collection_recovery_fee', 'last_pymnt_d', 'last_pymnt_amnt', 'next_pymnt_d', 'last_credit_pull_d', 'last_fico_range_high', 'last_fico_range_low', 'collections_12_mths_ex_med', 'mths_since_last_major_derog', 'policy_code', 'application_type', 'annual_inc_joint', 'dti_joint', 'verification_status_joint', 'acc_now_delinq', 'tot_coll_amt', 'tot_cur_bal', 'open_acc_6m', 'open_act_il', 'open_il_12m', 'open_il_24m', 'mths_since_rcnt_il', 'total_bal_il', 'il_util', 'open_rv_12m', 'open_rv_24m', 'max_bal_bc', 'all_util', 'total_rev_hi_lim', 'inq_fi', 'total_cu_tl', 'inq_last_12m', 'acc_open_past_24mths', 'avg_cur_bal', 'bc_open_to_buy', 'bc_util', 'chargeoff_within_12_mths', 'delinq_amnt', 'mo_sin_old_il_acct', 'mo_sin_old_rev_tl_op', 'mo_sin_rcnt_rev_tl_op', 'mo_sin_rcnt_tl', 'mort_acc', 'mths_since_recent_bc', 'mths_since_recent_bc_dlq', 'mths_since_recent_inq', 'mths_since_recent_revol_delinq', 'num_accts_ever_120_pd', 'num_actv_bc_tl', 'num_actv_rev_tl', 'num_bc_sats', 'num_bc_tl', 'num_il_tl', 'num_op_rev_tl', 'num_rev_accts', 'num_rev_tl_bal_gt_0', 'num_sats', 'num_tl_120dpd_2m', 'num_tl_30dpd', 'num_tl_90g_dpd_24m', 'num_tl_op_past_12m', 'pct_tl_nvr_dlq', 'percent_bc_gt_75', 'pub_rec_bankruptcies', 'tax_liens', 'tot_hi_cred_lim', 'total_bal_ex_mort', 'total_bc_limit', 'total_il_high_credit_limit', 'revol_bal_joint', 'sec_app_fico_range_low', 'sec_app_fico_range_high', 'sec_app_earliest_cr_line', 'sec_app_inq_last_6mths', 'sec_app_mort_acc', 'sec_app_open_acc', 'sec_app_revol_util', 'sec_app_open_act_il', 'sec_app_num_rev_accts', 'sec_app_chargeoff_within_12_mths', 'sec_app_collections_12_mths_ex_med', 'sec_app_mths_since_last_major_derog', 'hardship_flag', 'hardship_type', 'hardship_reason', 'hardship_status', 'deferral_term', 'hardship_amount', 'hardship_start_date', 'hardship_end_date', 'payment_plan_start_date', 'hardship_length', 'hardship_dpd', 'hardship_loan_status', 'orig_projected_additional_accrued_interest', 'hardship_payoff_balance_amount', 'hardship_last_payment_amount', 'disbursement_method', 'debt_settlement_flag', 'debt_settlement_flag_date', 'settlement_status', 'settlement_date', 'settlement_amount', 'settlement_percentage', 'settlement_term']\n"
     ]
    }
   ],
   "source": [
    "# The list of columns in the DataFrame (features)\n",
    "print(\"\\nList of Features (Potential):\")\n",
    "print(df_accepted.columns.tolist())"
   ]
  },
  {
   "cell_type": "code",
   "execution_count": 18,
   "id": "ec1ca7fd",
   "metadata": {},
   "outputs": [
    {
     "name": "stdout",
     "output_type": "stream",
     "text": [
      "All Unique Loan Statuses in Raw Data:\n",
      " loan_status\n",
      "Fully Paid                                             1076751\n",
      "Current                                                 878317\n",
      "Charged Off                                             268559\n",
      "Late (31-120 days)                                       21467\n",
      "In Grace Period                                           8436\n",
      "Late (16-30 days)                                         4349\n",
      "Does not meet the credit policy. Status:Fully Paid        1988\n",
      "Does not meet the credit policy. Status:Charged Off        761\n",
      "Default                                                     40\n",
      "Name: count, dtype: int64\n"
     ]
    }
   ],
   "source": [
    "print(\"All Unique Loan Statuses in Raw Data:\\n\", df_accepted['loan_status'].value_counts()) "
   ]
  },
  {
   "cell_type": "code",
   "execution_count": null,
   "id": "e8c372bb",
   "metadata": {},
   "outputs": [
    {
     "name": "stdout",
     "output_type": "stream",
     "text": [
      "Shape of filtered DataFrame: (1369566, 151)\n",
      "\n",
      "Number of Defaulted Loans:\n",
      "is_default\n",
      "0    1078739\n",
      "1     290827\n",
      "Name: count, dtype: int64\n",
      "\n",
      "Proportion of Defaulted Loans:\n",
      "is_default\n",
      "0    0.78765\n",
      "1    0.21235\n",
      "Name: proportion, dtype: float64\n",
      "\n",
      "Default Rate: 21.23%\n"
     ]
    },
    {
     "data": {
      "image/png": "[encoded data removed]",
      "text/plain": [
       "<Figure size 700x500 with 1 Axes>"
      ]
     },
     "metadata": {},
     "output_type": "display_data"
    }
   ],
   "source": [
    "# Current, Late (16-30 days), In Grace Period, and Current are not included as they are not final statuses.\n",
    "target_mapping = {\n",
    "    \"Charged Off\": 1,\n",
    "    \"Default\": 1,\n",
    "    \"Late (31-120 days)\": 1,\n",
    "    \"Does not meet the credit policy. Status:Charged Off\": 1,\n",
    "    \"Fully Paid\": 0,\n",
    "    \"Does not meet the credit policy. Status:Fully Paid\": 0\n",
    "} \n",
    "\n",
    "#Filtering the DataFrame to include only the final statuses\n",
    "final_status = [\"Charged Off\", \"Default\", \"Late (31-120 days)\", \"Does not meet the credit policy. Status:Charged Off\", \"Fully Paid\", \"Does not meet the credit policy. Status:Fully Paid\"]\n",
    "\n",
    "df_filtered = df_accepted[df_accepted['loan_status'].isin(final_status)].copy() #.copy() to avoid SettingWithCopyWarning\n",
    "print(f\"Shape of filtered DataFrame: {df_filtered.shape}\") # 1369566 < 2260701 original rows\n",
    "\n",
    "# Mapping the loan status to binary target variable\n",
    "df_filtered['is_default'] = df_filtered['loan_status'].map(target_mapping)\n",
    "\n",
    "# Checking the distribution of the target variable\n",
    "y = df_filtered['is_default']\n",
    "print(\"\\nNumber of Defaulted Loans:\")\n",
    "print(y.value_counts())\n",
    "print(\"\\nProportion of Defaulted Loans:\")\n",
    "print(y.value_counts(normalize=True))\n",
    "\n",
    "default_rate = y.mean() * 100 # Default rate in percentage\n",
    "print(f\"\\nDefault Rate: {default_rate:.2f}%\")\n",
    "\n",
    "# Visualizing the distribution of the target variable\n",
    "plt.figure(figsize=(7, 5))\n",
    "sns.countplot(x=y) # x = y means that we are plotting the target variable, which includes 0 and 1 (non-default and default)\n",
    "plt.title('Distribution of Loan Status (0: Fully Paid, 1: Defaulted)')\n",
    "plt.xlabel('Loan Status')\n",
    "plt.ylabel('Count')\n",
    "plt.xticks(ticks=[0, 1], labels=['Non-Default', 'Default'])\n",
    "plt.show()"
   ]
  },
  {
   "cell_type": "code",
   "execution_count": 32,
   "id": "6eb9cc57",
   "metadata": {},
   "outputs": [],
   "source": [
    "# Dropping columns that are not useful for the analysis\n",
    "columns_to_drop = [\n",
    "    # 1. Identifiers and Unnecessary Columns\n",
    "    'id',\n",
    "    'member_id',\n",
    "    'url',\n",
    "    'desc',\n",
    "    'loan_status',\n",
    "    'title',\n",
    "    'zip_code',\n",
    "    'emp_title',\n",
    "\n",
    "    # 2. Data Leakage: Information that would not be available at the time of loan application, only available after the loan is issued or defaulted\n",
    "    'funded_amnt',\n",
    "    'funded_amnt_inv',\n",
    "    'pymnt_plan',\n",
    "    'out_prncp',\n",
    "    'out_prncp_inv',\n",
    "    'total_pymnt',\n",
    "    'total_pymnt_inv',\n",
    "    'total_rec_prncp',\n",
    "    'total_rec_int',\n",
    "    'total_rec_late_fee',\n",
    "    'recoveries',\n",
    "    'collection_recovery_fee',\n",
    "    'last_pymnt_d',\n",
    "    'last_pymnt_amnt',\n",
    "    'next_pymnt_d',\n",
    "    'last_credit_pull_d',\n",
    "    'last_fico_range_high',\n",
    "    'last_fico_range_low',\n",
    "\n",
    "    # 3. Hardship and Debt Settlement Information (outcomes of distress not related to the original loan application)\n",
    "    'hardship_flag',\n",
    "    'hardship_type',\n",
    "    'hardship_reason',\n",
    "    'hardship_status',\n",
    "    'deferral_term',\n",
    "    'hardship_amount',\n",
    "    'hardship_start_date',\n",
    "    'hardship_end_date',\n",
    "    'payment_plan_start_date',\n",
    "    'hardship_length',\n",
    "    'hardship_dpd',\n",
    "    'hardship_loan_status',\n",
    "    'orig_projected_additional_accrued_interest',\n",
    "    'hardship_payoff_balance_amount',\n",
    "    'hardship_last_payment_amount',\n",
    "    'debt_settlement_flag',\n",
    "    'debt_settlement_flag_date',\n",
    "    'settlement_status',\n",
    "    'settlement_date',\n",
    "    'settlement_amount',\n",
    "    'settlement_percentage',\n",
    "    'settlement_term',\n",
    "\n",
    "    # 4. Joint/Secondary Borrower Information (not relevant for single borrower analysis)\n",
    "    'annual_inc_joint',\n",
    "    'dti_joint',\n",
    "    'verification_status_joint',\n",
    "    'revol_bal_joint',\n",
    "    'sec_app_fico_range_low',\n",
    "    'sec_app_fico_range_high',\n",
    "    'sec_app_earliest_cr_line',\n",
    "    'sec_app_inq_last_6mths',\n",
    "    'sec_app_mort_acc',\n",
    "    'sec_app_open_acc',\n",
    "    'sec_app_revol_util',\n",
    "    'sec_app_open_act_il',\n",
    "    'sec_app_num_rev_accts',\n",
    "    'sec_app_chargeoff_within_12_mths',\n",
    "    'sec_app_collections_12_mths_ex_med',\n",
    "    'sec_app_mths_since_last_major_derog',\n",
    "\n",
    "    # 5. Columns with High Missing Values or Irrelevant Information\n",
    "    'mths_since_last_delinq',\n",
    "    'policy_code'\n",
    "]"
   ]
  },
  {
   "cell_type": "code",
   "execution_count": null,
   "id": "855b4585",
   "metadata": {},
   "outputs": [
    {
     "name": "stdout",
     "output_type": "stream",
     "text": [
      "\n",
      "Initial number of features: 85\n",
      "First 5 Rows of Features DataFrame:\n",
      "   loan_amnt        term  int_rate  installment grade sub_grade emp_length  \\\n",
      "0     3600.0   36 months     13.99       123.03     C        C4  10+ years   \n",
      "1    24700.0   36 months     11.99       820.28     C        C1  10+ years   \n",
      "2    20000.0   60 months     10.78       432.66     B        B4  10+ years   \n",
      "4    10400.0   60 months     22.45       289.91     F        F1    3 years   \n",
      "5    11950.0   36 months     13.44       405.18     C        C3    4 years   \n",
      "\n",
      "  home_ownership  annual_inc verification_status  ... num_tl_op_past_12m  \\\n",
      "0       MORTGAGE     55000.0        Not Verified  ...                3.0   \n",
      "1       MORTGAGE     65000.0        Not Verified  ...                2.0   \n",
      "2       MORTGAGE     63000.0        Not Verified  ...                0.0   \n",
      "4       MORTGAGE    104433.0     Source Verified  ...                4.0   \n",
      "5           RENT     34000.0     Source Verified  ...                0.0   \n",
      "\n",
      "  pct_tl_nvr_dlq percent_bc_gt_75  pub_rec_bankruptcies  tax_liens  \\\n",
      "0           76.9              0.0                   0.0        0.0   \n",
      "1           97.4              7.7                   0.0        0.0   \n",
      "2          100.0             50.0                   0.0        0.0   \n",
      "4           96.6             60.0                   0.0        0.0   \n",
      "5          100.0            100.0                   0.0        0.0   \n",
      "\n",
      "  tot_hi_cred_lim  total_bal_ex_mort  total_bc_limit  \\\n",
      "0        178050.0             7746.0          2400.0   \n",
      "1        314017.0            39475.0         79300.0   \n",
      "2        218418.0            18696.0          6200.0   \n",
      "4        439570.0            95768.0         20300.0   \n",
      "5         16900.0            12798.0          9400.0   \n",
      "\n",
      "   total_il_high_credit_limit  disbursement_method  \n",
      "0                     13734.0                 Cash  \n",
      "1                     24667.0                 Cash  \n",
      "2                     14877.0                 Cash  \n",
      "4                     88097.0                 Cash  \n",
      "5                      4000.0                 Cash  \n",
      "\n",
      "[5 rows x 85 columns]\n"
     ]
    }
   ],
   "source": [
    "existing_columns = [col for col in columns_to_drop if col in df_filtered.columns]\n",
    "\n",
    "# Create the features DataFrame\n",
    "X = df_filtered.drop(columns=existing_columns + ['is_default'], errors='ignore')  # errors='ignore' to avoid KeyError if any column is not present\n",
    "\n",
    "print(f\"\\nInitial number of features: {X.shape[1]}\") # 85 < 151 original features\n",
    "print(\"First 5 Rows of Features DataFrame:\")\n",
    "print(X.head())"
   ]
  },
  {
   "cell_type": "code",
   "execution_count": 36,
   "id": "3ed70d77",
   "metadata": {},
   "outputs": [
    {
     "name": "stdout",
     "output_type": "stream",
     "text": [
      "\n",
      "Number of Features with Missing Values:\n",
      " mths_since_last_record            1136114\n",
      "mths_since_recent_bc_dlq          1045111\n",
      "mths_since_last_major_derog       1009260\n",
      "mths_since_recent_revol_delinq     911978\n",
      "il_util                            887579\n",
      "                                   ...   \n",
      "open_acc                               29\n",
      "earliest_cr_line                       29\n",
      "pub_rec                                29\n",
      "delinq_amnt                            29\n",
      "annual_inc                              4\n",
      "Length: 68, dtype: int64\n"
     ]
    }
   ],
   "source": [
    "missing_values = X.isnull().sum()\n",
    "missing_value_count = missing_values[missing_values > 0]\n",
    "print(f\"\\nNumber of Features with Missing Values:\\n\", missing_value_count.sort_values(ascending=False))"
   ]
  },
  {
   "cell_type": "code",
   "execution_count": 43,
   "id": "f8a9aa85",
   "metadata": {},
   "outputs": [
    {
     "name": "stdout",
     "output_type": "stream",
     "text": [
      "\n",
      "Percentage of Missing Values in Each Feature:\n",
      " mths_since_last_record            82.954308\n",
      "mths_since_recent_bc_dlq          76.309648\n",
      "mths_since_last_major_derog       73.691958\n",
      "mths_since_recent_revol_delinq    66.588832\n",
      "il_util                           64.807319\n",
      "mths_since_rcnt_il                60.384969\n",
      "all_util                          59.296376\n",
      "total_cu_tl                       59.292360\n",
      "open_acc_6m                       59.292360\n",
      "inq_last_12m                      59.292360\n",
      "total_bal_il                      59.292287\n",
      "open_rv_12m                       59.292287\n",
      "max_bal_bc                        59.292287\n",
      "inq_fi                            59.292287\n",
      "open_rv_24m                       59.292287\n",
      "open_act_il                       59.292287\n",
      "open_il_12m                       59.292287\n",
      "open_il_24m                       59.292287\n",
      "mths_since_recent_inq             13.038729\n",
      "num_tl_120dpd_2m                   8.872154\n",
      "mo_sin_old_il_acct                 7.966684\n",
      "emp_length                         5.870546\n",
      "pct_tl_nvr_dlq                     5.142505\n",
      "avg_cur_bal                        5.132940\n",
      "mo_sin_old_rev_tl_op               5.131334\n",
      "num_rev_accts                      5.131334\n",
      "mo_sin_rcnt_rev_tl_op              5.131334\n",
      "num_tl_op_past_12m                 5.131261\n",
      "total_il_high_credit_limit         5.131261\n",
      "tot_hi_cred_lim                    5.131261\n",
      "dtype: float64\n"
     ]
    }
   ],
   "source": [
    "missing_percentage = (X.isnull().sum() / len(X)) * 100\n",
    "missing_percentage = missing_percentage[missing_percentage > 0]\n",
    "print(f\"\\nPercentage of Missing Values in Each Feature:\\n\", missing_percentage.sort_values(ascending=False).head(30))"
   ]
  },
  {
   "cell_type": "code",
   "execution_count": null,
   "id": "f15d9001",
   "metadata": {},
   "outputs": [],
   "source": []
  }
 ],
 "metadata": {
  "kernelspec": {
   "display_name": ".venv",
   "language": "python",
   "name": "python3"
  },
  "language_info": {
   "codemirror_mode": {
    "name": "ipython",
    "version": 3
   },
   "file_extension": ".py",
   "mimetype": "text/x-python",
   "name": "python",
   "nbconvert_exporter": "python",
   "pygments_lexer": "ipython3",
   "version": "3.13.3"
  }
 },
 "nbformat": 4,
 "nbformat_minor": 5
}
